{
  "nbformat": 4,
  "nbformat_minor": 0,
  "metadata": {
    "colab": {
      "provenance": [],
      "mount_file_id": "https://github.com/wczubal1/BloombergTask/blob/main/BloombergTaskWitoldCzubala.ipynb",
      "authorship_tag": "ABX9TyM8hwliZZ3ZpnkHHhwRaFiP",
      "include_colab_link": true
    },
    "kernelspec": {
      "name": "python3",
      "display_name": "Python 3"
    },
    "language_info": {
      "name": "python"
    }
  },
  "cells": [
    {
      "cell_type": "markdown",
      "metadata": {
        "id": "view-in-github",
        "colab_type": "text"
      },
      "source": [
        "<a href=\"https://colab.research.google.com/github/wczubal1/BloombergTask/blob/main/BloombergTaskWitoldCzubala.ipynb\" target=\"_parent\"><img src=\"https://colab.research.google.com/assets/colab-badge.svg\" alt=\"Open In Colab\"/></a>"
      ]
    },
    {
      "cell_type": "code",
      "execution_count": 1,
      "metadata": {
        "id": "lOSCnnSxgNvD"
      },
      "outputs": [],
      "source": [
        "import pandas as pd\n",
        "import numpy as np\n",
        "from scipy.stats import multivariate_normal\n",
        "from statistics import NormalDist"
      ]
    },
    {
      "cell_type": "code",
      "source": [
        "!pip install scikit-learn"
      ],
      "metadata": {
        "id": "Ku6HDvGWtkyp",
        "outputId": "ef6f6ec7-a1b6-4e42-b443-428d0ad4a2ba",
        "colab": {
          "base_uri": "https://localhost:8080/"
        }
      },
      "execution_count": 24,
      "outputs": [
        {
          "output_type": "stream",
          "name": "stdout",
          "text": [
            "Requirement already satisfied: scikit-learn in /usr/local/lib/python3.10/dist-packages (1.2.2)\n",
            "Requirement already satisfied: numpy>=1.17.3 in /usr/local/lib/python3.10/dist-packages (from scikit-learn) (1.23.5)\n",
            "Requirement already satisfied: scipy>=1.3.2 in /usr/local/lib/python3.10/dist-packages (from scikit-learn) (1.11.4)\n",
            "Requirement already satisfied: joblib>=1.1.1 in /usr/local/lib/python3.10/dist-packages (from scikit-learn) (1.3.2)\n",
            "Requirement already satisfied: threadpoolctl>=2.0.0 in /usr/local/lib/python3.10/dist-packages (from scikit-learn) (3.2.0)\n"
          ]
        }
      ]
    },
    {
      "cell_type": "code",
      "source": [
        "import sklearn"
      ],
      "metadata": {
        "id": "PGRP9tg_vXPm"
      },
      "execution_count": 26,
      "outputs": []
    },
    {
      "cell_type": "code",
      "source": [
        "from sklearn.model_selection import train_test_split\n",
        "from sklearn.linear_model import LogisticRegression\n",
        "from sklearn.metrics import classification_report, confusion_matrix"
      ],
      "metadata": {
        "id": "i-ZcbGH3ufuc"
      },
      "execution_count": 33,
      "outputs": []
    },
    {
      "cell_type": "code",
      "source": [
        "#Uploading corporate PD datset\n",
        "data_root = \"https://raw.githubusercontent.com/wczubal1/BloombergTask/main/\"\n",
        "df_credit = pd.read_csv(data_root + \"df_credit.csv\")"
      ],
      "metadata": {
        "id": "Zgqlq3LhgzDO"
      },
      "execution_count": 2,
      "outputs": []
    },
    {
      "cell_type": "code",
      "source": [
        "df_credit"
      ],
      "metadata": {
        "colab": {
          "base_uri": "https://localhost:8080/",
          "height": 424
        },
        "id": "OOL6kjHsu3e_",
        "outputId": "85102548-2f82-4429-e402-bccf18991737"
      },
      "execution_count": 11,
      "outputs": [
        {
          "output_type": "execute_result",
          "data": {
            "text/plain": [
              "     Instrument                               CompanyName  \\\n",
              "1      FCNCA.OQ  First Citizens BancShares Inc (Delaware)   \n",
              "4         DDD.N                           3D Systems Corp   \n",
              "5         MMM.N                                     3M Co   \n",
              "8       EGHT.OQ                                   8x8 Inc   \n",
              "9         AOS.N                            A O Smith Corp   \n",
              "...         ...                                       ...   \n",
              "2321      ZIP.N                          Ziprecruiter Inc   \n",
              "2322      ZTS.N                                Zoetis Inc   \n",
              "2324      ZI.OQ                 Zoominfo Technologies Inc   \n",
              "2325      ZS.OQ                               Zscaler Inc   \n",
              "2326    ZUMZ.OQ                                Zumiez Inc   \n",
              "\n",
              "                          BusinessSector  CompanyMarketCap  CreditCombinedPD  \\\n",
              "1          Banking & Investment Services      2.005774e+10          0.251288   \n",
              "4                   Technology Equipment      6.925227e+08          0.459605   \n",
              "5           Consumer Goods Conglomerates      5.971652e+10          0.139720   \n",
              "8            Telecommunications Services      4.287940e+08          0.317889   \n",
              "9                       Industrial Goods      1.206271e+10          0.029621   \n",
              "...                                  ...               ...               ...   \n",
              "2321    Industrial & Commercial Services      1.407385e+09          0.262709   \n",
              "2322  Pharmaceuticals & Medical Research      9.133608e+10          0.053257   \n",
              "2324              Software & IT Services      6.127379e+09          0.216172   \n",
              "2325              Software & IT Services      3.423091e+10          0.049608   \n",
              "2326                           Retailers      3.589960e+08          0.233710   \n",
              "\n",
              "      ReturnOnAssets  TotalDebttoCommonEquity  PriceMomentumT12MVolatility  \\\n",
              "1              1.010                  0.92905                    24.651832   \n",
              "4             -1.960                  0.60469                    21.900110   \n",
              "5             12.259                  1.08851                     8.019977   \n",
              "8              4.400                  4.92209                    24.693342   \n",
              "9             14.359                  0.19712                     4.928321   \n",
              "...              ...                      ...                          ...   \n",
              "2321          11.050                 18.92240                    22.864605   \n",
              "2322          15.939                  1.79432                     6.464926   \n",
              "2324           5.200                  0.54393                    18.089863   \n",
              "2325           8.650                  1.56412                    16.097909   \n",
              "2326           2.610                  0.00000                    13.146578   \n",
              "\n",
              "      randNumCol  Default  \n",
              "1       0.635039    False  \n",
              "4       0.899381    False  \n",
              "5       0.905377    False  \n",
              "8       0.823953    False  \n",
              "9       0.095575    False  \n",
              "...          ...      ...  \n",
              "2321    0.740800    False  \n",
              "2322    0.085514    False  \n",
              "2324    0.992130    False  \n",
              "2325    0.255266    False  \n",
              "2326    0.183483    False  \n",
              "\n",
              "[1527 rows x 10 columns]"
            ],
            "text/html": [
              "\n",
              "  <div id=\"df-4cdf395e-1369-4eb9-9316-9926aadfff80\" class=\"colab-df-container\">\n",
              "    <div>\n",
              "<style scoped>\n",
              "    .dataframe tbody tr th:only-of-type {\n",
              "        vertical-align: middle;\n",
              "    }\n",
              "\n",
              "    .dataframe tbody tr th {\n",
              "        vertical-align: top;\n",
              "    }\n",
              "\n",
              "    .dataframe thead th {\n",
              "        text-align: right;\n",
              "    }\n",
              "</style>\n",
              "<table border=\"1\" class=\"dataframe\">\n",
              "  <thead>\n",
              "    <tr style=\"text-align: right;\">\n",
              "      <th></th>\n",
              "      <th>Instrument</th>\n",
              "      <th>CompanyName</th>\n",
              "      <th>BusinessSector</th>\n",
              "      <th>CompanyMarketCap</th>\n",
              "      <th>CreditCombinedPD</th>\n",
              "      <th>ReturnOnAssets</th>\n",
              "      <th>TotalDebttoCommonEquity</th>\n",
              "      <th>PriceMomentumT12MVolatility</th>\n",
              "      <th>randNumCol</th>\n",
              "      <th>Default</th>\n",
              "    </tr>\n",
              "  </thead>\n",
              "  <tbody>\n",
              "    <tr>\n",
              "      <th>1</th>\n",
              "      <td>FCNCA.OQ</td>\n",
              "      <td>First Citizens BancShares Inc (Delaware)</td>\n",
              "      <td>Banking &amp; Investment Services</td>\n",
              "      <td>2.005774e+10</td>\n",
              "      <td>0.251288</td>\n",
              "      <td>1.010</td>\n",
              "      <td>0.92905</td>\n",
              "      <td>24.651832</td>\n",
              "      <td>0.635039</td>\n",
              "      <td>False</td>\n",
              "    </tr>\n",
              "    <tr>\n",
              "      <th>4</th>\n",
              "      <td>DDD.N</td>\n",
              "      <td>3D Systems Corp</td>\n",
              "      <td>Technology Equipment</td>\n",
              "      <td>6.925227e+08</td>\n",
              "      <td>0.459605</td>\n",
              "      <td>-1.960</td>\n",
              "      <td>0.60469</td>\n",
              "      <td>21.900110</td>\n",
              "      <td>0.899381</td>\n",
              "      <td>False</td>\n",
              "    </tr>\n",
              "    <tr>\n",
              "      <th>5</th>\n",
              "      <td>MMM.N</td>\n",
              "      <td>3M Co</td>\n",
              "      <td>Consumer Goods Conglomerates</td>\n",
              "      <td>5.971652e+10</td>\n",
              "      <td>0.139720</td>\n",
              "      <td>12.259</td>\n",
              "      <td>1.08851</td>\n",
              "      <td>8.019977</td>\n",
              "      <td>0.905377</td>\n",
              "      <td>False</td>\n",
              "    </tr>\n",
              "    <tr>\n",
              "      <th>8</th>\n",
              "      <td>EGHT.OQ</td>\n",
              "      <td>8x8 Inc</td>\n",
              "      <td>Telecommunications Services</td>\n",
              "      <td>4.287940e+08</td>\n",
              "      <td>0.317889</td>\n",
              "      <td>4.400</td>\n",
              "      <td>4.92209</td>\n",
              "      <td>24.693342</td>\n",
              "      <td>0.823953</td>\n",
              "      <td>False</td>\n",
              "    </tr>\n",
              "    <tr>\n",
              "      <th>9</th>\n",
              "      <td>AOS.N</td>\n",
              "      <td>A O Smith Corp</td>\n",
              "      <td>Industrial Goods</td>\n",
              "      <td>1.206271e+10</td>\n",
              "      <td>0.029621</td>\n",
              "      <td>14.359</td>\n",
              "      <td>0.19712</td>\n",
              "      <td>4.928321</td>\n",
              "      <td>0.095575</td>\n",
              "      <td>False</td>\n",
              "    </tr>\n",
              "    <tr>\n",
              "      <th>...</th>\n",
              "      <td>...</td>\n",
              "      <td>...</td>\n",
              "      <td>...</td>\n",
              "      <td>...</td>\n",
              "      <td>...</td>\n",
              "      <td>...</td>\n",
              "      <td>...</td>\n",
              "      <td>...</td>\n",
              "      <td>...</td>\n",
              "      <td>...</td>\n",
              "    </tr>\n",
              "    <tr>\n",
              "      <th>2321</th>\n",
              "      <td>ZIP.N</td>\n",
              "      <td>Ziprecruiter Inc</td>\n",
              "      <td>Industrial &amp; Commercial Services</td>\n",
              "      <td>1.407385e+09</td>\n",
              "      <td>0.262709</td>\n",
              "      <td>11.050</td>\n",
              "      <td>18.92240</td>\n",
              "      <td>22.864605</td>\n",
              "      <td>0.740800</td>\n",
              "      <td>False</td>\n",
              "    </tr>\n",
              "    <tr>\n",
              "      <th>2322</th>\n",
              "      <td>ZTS.N</td>\n",
              "      <td>Zoetis Inc</td>\n",
              "      <td>Pharmaceuticals &amp; Medical Research</td>\n",
              "      <td>9.133608e+10</td>\n",
              "      <td>0.053257</td>\n",
              "      <td>15.939</td>\n",
              "      <td>1.79432</td>\n",
              "      <td>6.464926</td>\n",
              "      <td>0.085514</td>\n",
              "      <td>False</td>\n",
              "    </tr>\n",
              "    <tr>\n",
              "      <th>2324</th>\n",
              "      <td>ZI.OQ</td>\n",
              "      <td>Zoominfo Technologies Inc</td>\n",
              "      <td>Software &amp; IT Services</td>\n",
              "      <td>6.127379e+09</td>\n",
              "      <td>0.216172</td>\n",
              "      <td>5.200</td>\n",
              "      <td>0.54393</td>\n",
              "      <td>18.089863</td>\n",
              "      <td>0.992130</td>\n",
              "      <td>False</td>\n",
              "    </tr>\n",
              "    <tr>\n",
              "      <th>2325</th>\n",
              "      <td>ZS.OQ</td>\n",
              "      <td>Zscaler Inc</td>\n",
              "      <td>Software &amp; IT Services</td>\n",
              "      <td>3.423091e+10</td>\n",
              "      <td>0.049608</td>\n",
              "      <td>8.650</td>\n",
              "      <td>1.56412</td>\n",
              "      <td>16.097909</td>\n",
              "      <td>0.255266</td>\n",
              "      <td>False</td>\n",
              "    </tr>\n",
              "    <tr>\n",
              "      <th>2326</th>\n",
              "      <td>ZUMZ.OQ</td>\n",
              "      <td>Zumiez Inc</td>\n",
              "      <td>Retailers</td>\n",
              "      <td>3.589960e+08</td>\n",
              "      <td>0.233710</td>\n",
              "      <td>2.610</td>\n",
              "      <td>0.00000</td>\n",
              "      <td>13.146578</td>\n",
              "      <td>0.183483</td>\n",
              "      <td>False</td>\n",
              "    </tr>\n",
              "  </tbody>\n",
              "</table>\n",
              "<p>1527 rows × 10 columns</p>\n",
              "</div>\n",
              "    <div class=\"colab-df-buttons\">\n",
              "\n",
              "  <div class=\"colab-df-container\">\n",
              "    <button class=\"colab-df-convert\" onclick=\"convertToInteractive('df-4cdf395e-1369-4eb9-9316-9926aadfff80')\"\n",
              "            title=\"Convert this dataframe to an interactive table.\"\n",
              "            style=\"display:none;\">\n",
              "\n",
              "  <svg xmlns=\"http://www.w3.org/2000/svg\" height=\"24px\" viewBox=\"0 -960 960 960\">\n",
              "    <path d=\"M120-120v-720h720v720H120Zm60-500h600v-160H180v160Zm220 220h160v-160H400v160Zm0 220h160v-160H400v160ZM180-400h160v-160H180v160Zm440 0h160v-160H620v160ZM180-180h160v-160H180v160Zm440 0h160v-160H620v160Z\"/>\n",
              "  </svg>\n",
              "    </button>\n",
              "\n",
              "  <style>\n",
              "    .colab-df-container {\n",
              "      display:flex;\n",
              "      gap: 12px;\n",
              "    }\n",
              "\n",
              "    .colab-df-convert {\n",
              "      background-color: #E8F0FE;\n",
              "      border: none;\n",
              "      border-radius: 50%;\n",
              "      cursor: pointer;\n",
              "      display: none;\n",
              "      fill: #1967D2;\n",
              "      height: 32px;\n",
              "      padding: 0 0 0 0;\n",
              "      width: 32px;\n",
              "    }\n",
              "\n",
              "    .colab-df-convert:hover {\n",
              "      background-color: #E2EBFA;\n",
              "      box-shadow: 0px 1px 2px rgba(60, 64, 67, 0.3), 0px 1px 3px 1px rgba(60, 64, 67, 0.15);\n",
              "      fill: #174EA6;\n",
              "    }\n",
              "\n",
              "    .colab-df-buttons div {\n",
              "      margin-bottom: 4px;\n",
              "    }\n",
              "\n",
              "    [theme=dark] .colab-df-convert {\n",
              "      background-color: #3B4455;\n",
              "      fill: #D2E3FC;\n",
              "    }\n",
              "\n",
              "    [theme=dark] .colab-df-convert:hover {\n",
              "      background-color: #434B5C;\n",
              "      box-shadow: 0px 1px 3px 1px rgba(0, 0, 0, 0.15);\n",
              "      filter: drop-shadow(0px 1px 2px rgba(0, 0, 0, 0.3));\n",
              "      fill: #FFFFFF;\n",
              "    }\n",
              "  </style>\n",
              "\n",
              "    <script>\n",
              "      const buttonEl =\n",
              "        document.querySelector('#df-4cdf395e-1369-4eb9-9316-9926aadfff80 button.colab-df-convert');\n",
              "      buttonEl.style.display =\n",
              "        google.colab.kernel.accessAllowed ? 'block' : 'none';\n",
              "\n",
              "      async function convertToInteractive(key) {\n",
              "        const element = document.querySelector('#df-4cdf395e-1369-4eb9-9316-9926aadfff80');\n",
              "        const dataTable =\n",
              "          await google.colab.kernel.invokeFunction('convertToInteractive',\n",
              "                                                    [key], {});\n",
              "        if (!dataTable) return;\n",
              "\n",
              "        const docLinkHtml = 'Like what you see? Visit the ' +\n",
              "          '<a target=\"_blank\" href=https://colab.research.google.com/notebooks/data_table.ipynb>data table notebook</a>'\n",
              "          + ' to learn more about interactive tables.';\n",
              "        element.innerHTML = '';\n",
              "        dataTable['output_type'] = 'display_data';\n",
              "        await google.colab.output.renderOutput(dataTable, element);\n",
              "        const docLink = document.createElement('div');\n",
              "        docLink.innerHTML = docLinkHtml;\n",
              "        element.appendChild(docLink);\n",
              "      }\n",
              "    </script>\n",
              "  </div>\n",
              "\n",
              "\n",
              "<div id=\"df-f9c9894e-5985-44d2-94f5-6a5005033b29\">\n",
              "  <button class=\"colab-df-quickchart\" onclick=\"quickchart('df-f9c9894e-5985-44d2-94f5-6a5005033b29')\"\n",
              "            title=\"Suggest charts\"\n",
              "            style=\"display:none;\">\n",
              "\n",
              "<svg xmlns=\"http://www.w3.org/2000/svg\" height=\"24px\"viewBox=\"0 0 24 24\"\n",
              "     width=\"24px\">\n",
              "    <g>\n",
              "        <path d=\"M19 3H5c-1.1 0-2 .9-2 2v14c0 1.1.9 2 2 2h14c1.1 0 2-.9 2-2V5c0-1.1-.9-2-2-2zM9 17H7v-7h2v7zm4 0h-2V7h2v10zm4 0h-2v-4h2v4z\"/>\n",
              "    </g>\n",
              "</svg>\n",
              "  </button>\n",
              "\n",
              "<style>\n",
              "  .colab-df-quickchart {\n",
              "      --bg-color: #E8F0FE;\n",
              "      --fill-color: #1967D2;\n",
              "      --hover-bg-color: #E2EBFA;\n",
              "      --hover-fill-color: #174EA6;\n",
              "      --disabled-fill-color: #AAA;\n",
              "      --disabled-bg-color: #DDD;\n",
              "  }\n",
              "\n",
              "  [theme=dark] .colab-df-quickchart {\n",
              "      --bg-color: #3B4455;\n",
              "      --fill-color: #D2E3FC;\n",
              "      --hover-bg-color: #434B5C;\n",
              "      --hover-fill-color: #FFFFFF;\n",
              "      --disabled-bg-color: #3B4455;\n",
              "      --disabled-fill-color: #666;\n",
              "  }\n",
              "\n",
              "  .colab-df-quickchart {\n",
              "    background-color: var(--bg-color);\n",
              "    border: none;\n",
              "    border-radius: 50%;\n",
              "    cursor: pointer;\n",
              "    display: none;\n",
              "    fill: var(--fill-color);\n",
              "    height: 32px;\n",
              "    padding: 0;\n",
              "    width: 32px;\n",
              "  }\n",
              "\n",
              "  .colab-df-quickchart:hover {\n",
              "    background-color: var(--hover-bg-color);\n",
              "    box-shadow: 0 1px 2px rgba(60, 64, 67, 0.3), 0 1px 3px 1px rgba(60, 64, 67, 0.15);\n",
              "    fill: var(--button-hover-fill-color);\n",
              "  }\n",
              "\n",
              "  .colab-df-quickchart-complete:disabled,\n",
              "  .colab-df-quickchart-complete:disabled:hover {\n",
              "    background-color: var(--disabled-bg-color);\n",
              "    fill: var(--disabled-fill-color);\n",
              "    box-shadow: none;\n",
              "  }\n",
              "\n",
              "  .colab-df-spinner {\n",
              "    border: 2px solid var(--fill-color);\n",
              "    border-color: transparent;\n",
              "    border-bottom-color: var(--fill-color);\n",
              "    animation:\n",
              "      spin 1s steps(1) infinite;\n",
              "  }\n",
              "\n",
              "  @keyframes spin {\n",
              "    0% {\n",
              "      border-color: transparent;\n",
              "      border-bottom-color: var(--fill-color);\n",
              "      border-left-color: var(--fill-color);\n",
              "    }\n",
              "    20% {\n",
              "      border-color: transparent;\n",
              "      border-left-color: var(--fill-color);\n",
              "      border-top-color: var(--fill-color);\n",
              "    }\n",
              "    30% {\n",
              "      border-color: transparent;\n",
              "      border-left-color: var(--fill-color);\n",
              "      border-top-color: var(--fill-color);\n",
              "      border-right-color: var(--fill-color);\n",
              "    }\n",
              "    40% {\n",
              "      border-color: transparent;\n",
              "      border-right-color: var(--fill-color);\n",
              "      border-top-color: var(--fill-color);\n",
              "    }\n",
              "    60% {\n",
              "      border-color: transparent;\n",
              "      border-right-color: var(--fill-color);\n",
              "    }\n",
              "    80% {\n",
              "      border-color: transparent;\n",
              "      border-right-color: var(--fill-color);\n",
              "      border-bottom-color: var(--fill-color);\n",
              "    }\n",
              "    90% {\n",
              "      border-color: transparent;\n",
              "      border-bottom-color: var(--fill-color);\n",
              "    }\n",
              "  }\n",
              "</style>\n",
              "\n",
              "  <script>\n",
              "    async function quickchart(key) {\n",
              "      const quickchartButtonEl =\n",
              "        document.querySelector('#' + key + ' button');\n",
              "      quickchartButtonEl.disabled = true;  // To prevent multiple clicks.\n",
              "      quickchartButtonEl.classList.add('colab-df-spinner');\n",
              "      try {\n",
              "        const charts = await google.colab.kernel.invokeFunction(\n",
              "            'suggestCharts', [key], {});\n",
              "      } catch (error) {\n",
              "        console.error('Error during call to suggestCharts:', error);\n",
              "      }\n",
              "      quickchartButtonEl.classList.remove('colab-df-spinner');\n",
              "      quickchartButtonEl.classList.add('colab-df-quickchart-complete');\n",
              "    }\n",
              "    (() => {\n",
              "      let quickchartButtonEl =\n",
              "        document.querySelector('#df-f9c9894e-5985-44d2-94f5-6a5005033b29 button');\n",
              "      quickchartButtonEl.style.display =\n",
              "        google.colab.kernel.accessAllowed ? 'block' : 'none';\n",
              "    })();\n",
              "  </script>\n",
              "</div>\n",
              "\n",
              "  <div id=\"id_86ed0c5e-bfcd-4743-8794-5122d5968626\">\n",
              "    <style>\n",
              "      .colab-df-generate {\n",
              "        background-color: #E8F0FE;\n",
              "        border: none;\n",
              "        border-radius: 50%;\n",
              "        cursor: pointer;\n",
              "        display: none;\n",
              "        fill: #1967D2;\n",
              "        height: 32px;\n",
              "        padding: 0 0 0 0;\n",
              "        width: 32px;\n",
              "      }\n",
              "\n",
              "      .colab-df-generate:hover {\n",
              "        background-color: #E2EBFA;\n",
              "        box-shadow: 0px 1px 2px rgba(60, 64, 67, 0.3), 0px 1px 3px 1px rgba(60, 64, 67, 0.15);\n",
              "        fill: #174EA6;\n",
              "      }\n",
              "\n",
              "      [theme=dark] .colab-df-generate {\n",
              "        background-color: #3B4455;\n",
              "        fill: #D2E3FC;\n",
              "      }\n",
              "\n",
              "      [theme=dark] .colab-df-generate:hover {\n",
              "        background-color: #434B5C;\n",
              "        box-shadow: 0px 1px 3px 1px rgba(0, 0, 0, 0.15);\n",
              "        filter: drop-shadow(0px 1px 2px rgba(0, 0, 0, 0.3));\n",
              "        fill: #FFFFFF;\n",
              "      }\n",
              "    </style>\n",
              "    <button class=\"colab-df-generate\" onclick=\"generateWithVariable('df_credit')\"\n",
              "            title=\"Generate code using this dataframe.\"\n",
              "            style=\"display:none;\">\n",
              "\n",
              "  <svg xmlns=\"http://www.w3.org/2000/svg\" height=\"24px\"viewBox=\"0 0 24 24\"\n",
              "       width=\"24px\">\n",
              "    <path d=\"M7,19H8.4L18.45,9,17,7.55,7,17.6ZM5,21V16.75L18.45,3.32a2,2,0,0,1,2.83,0l1.4,1.43a1.91,1.91,0,0,1,.58,1.4,1.91,1.91,0,0,1-.58,1.4L9.25,21ZM18.45,9,17,7.55Zm-12,3A5.31,5.31,0,0,0,4.9,8.1,5.31,5.31,0,0,0,1,6.5,5.31,5.31,0,0,0,4.9,4.9,5.31,5.31,0,0,0,6.5,1,5.31,5.31,0,0,0,8.1,4.9,5.31,5.31,0,0,0,12,6.5,5.46,5.46,0,0,0,6.5,12Z\"/>\n",
              "  </svg>\n",
              "    </button>\n",
              "    <script>\n",
              "      (() => {\n",
              "      const buttonEl =\n",
              "        document.querySelector('#id_86ed0c5e-bfcd-4743-8794-5122d5968626 button.colab-df-generate');\n",
              "      buttonEl.style.display =\n",
              "        google.colab.kernel.accessAllowed ? 'block' : 'none';\n",
              "\n",
              "      buttonEl.onclick = () => {\n",
              "        google.colab.notebook.generateWithVariable('df_credit');\n",
              "      }\n",
              "      })();\n",
              "    </script>\n",
              "  </div>\n",
              "\n",
              "    </div>\n",
              "  </div>\n"
            ]
          },
          "metadata": {},
          "execution_count": 11
        }
      ]
    },
    {
      "cell_type": "code",
      "source": [
        "#Count of rows with missing values\n",
        "print (df_credit.isna().any(axis=1).sum())"
      ],
      "metadata": {
        "id": "fQT4PDj39_En",
        "outputId": "1a012c9a-37d3-4a96-ce42-a05a14b828b3",
        "colab": {
          "base_uri": "https://localhost:8080/"
        }
      },
      "execution_count": 4,
      "outputs": [
        {
          "output_type": "stream",
          "name": "stdout",
          "text": [
            "802\n"
          ]
        }
      ]
    },
    {
      "cell_type": "code",
      "source": [
        "#Removing missing values\n",
        "df_credit=df_credit.dropna()"
      ],
      "metadata": {
        "id": "56TUifzG-YDt"
      },
      "execution_count": 5,
      "outputs": []
    },
    {
      "cell_type": "code",
      "source": [
        "df_credit.loc[:,'randNumCol'] = np.random.uniform(0, 1, df_credit.shape[0])"
      ],
      "metadata": {
        "id": "NyNKoF7l_JPX",
        "outputId": "ac51dca4-ea9c-4d8c-8c73-0c11ea2e1bf0",
        "colab": {
          "base_uri": "https://localhost:8080/"
        }
      },
      "execution_count": 6,
      "outputs": [
        {
          "output_type": "stream",
          "name": "stderr",
          "text": [
            "<ipython-input-6-d4b71def6516>:1: SettingWithCopyWarning: \n",
            "A value is trying to be set on a copy of a slice from a DataFrame.\n",
            "Try using .loc[row_indexer,col_indexer] = value instead\n",
            "\n",
            "See the caveats in the documentation: https://pandas.pydata.org/pandas-docs/stable/user_guide/indexing.html#returning-a-view-versus-a-copy\n",
            "  df_credit.loc[:,'randNumCol'] = np.random.uniform(0, 1, df_credit.shape[0])\n"
          ]
        }
      ]
    },
    {
      "cell_type": "code",
      "source": [
        "df_credit['CreditCombinedPD'].describe()\n",
        "#df_credit['randNumCol'].describe()"
      ],
      "metadata": {
        "id": "ThLrfcNV_7N6",
        "outputId": "b82d82bb-c83b-48d0-fe94-0e38e1a3b4d3",
        "colab": {
          "base_uri": "https://localhost:8080/"
        }
      },
      "execution_count": 9,
      "outputs": [
        {
          "output_type": "execute_result",
          "data": {
            "text/plain": [
              "count    1527.000000\n",
              "mean        0.283032\n",
              "std         0.493445\n",
              "min         0.006694\n",
              "25%         0.074972\n",
              "50%         0.140495\n",
              "75%         0.269909\n",
              "max         5.972882\n",
              "Name: CreditCombinedPD, dtype: float64"
            ]
          },
          "metadata": {},
          "execution_count": 9
        }
      ]
    },
    {
      "cell_type": "code",
      "source": [
        "#simulating default\n",
        "df_credit.loc[:,'Default'] = df_credit['CreditCombinedPD']/100>df_credit['randNumCol']"
      ],
      "metadata": {
        "id": "GFdPS32ymx8C",
        "outputId": "515ba0b7-9337-4034-d6ce-3637745d896a",
        "colab": {
          "base_uri": "https://localhost:8080/"
        }
      },
      "execution_count": 10,
      "outputs": [
        {
          "output_type": "stream",
          "name": "stderr",
          "text": [
            "<ipython-input-10-7c77fd14bf5e>:1: SettingWithCopyWarning: \n",
            "A value is trying to be set on a copy of a slice from a DataFrame.\n",
            "Try using .loc[row_indexer,col_indexer] = value instead\n",
            "\n",
            "See the caveats in the documentation: https://pandas.pydata.org/pandas-docs/stable/user_guide/indexing.html#returning-a-view-versus-a-copy\n",
            "  df_credit.loc[:,'Default'] = df_credit['CreditCombinedPD']/100>df_credit['randNumCol']\n"
          ]
        }
      ]
    },
    {
      "cell_type": "code",
      "source": [
        "sum(df_credit['Default'])\n",
        "df_credit.loc[df_credit['Default']==True]\n",
        "df_credit.loc[df_credit['Default']==True,'BusinessSector'].describe()"
      ],
      "metadata": {
        "id": "RXwht3IxnF4-",
        "outputId": "a52d4e32-8b81-4963-8d8f-453a768aa9a8",
        "colab": {
          "base_uri": "https://localhost:8080/"
        }
      },
      "execution_count": 17,
      "outputs": [
        {
          "output_type": "execute_result",
          "data": {
            "text/plain": [
              "count               9\n",
              "unique              6\n",
              "top       Real Estate\n",
              "freq                3\n",
              "Name: BusinessSector, dtype: object"
            ]
          },
          "metadata": {},
          "execution_count": 17
        }
      ]
    },
    {
      "cell_type": "code",
      "source": [
        "#Sector variables\n",
        "df_credit.groupby('BusinessSector').size()\n",
        "df_credit=pd.concat([df_credit, pd.get_dummies(df_credit['BusinessSector'],drop_first=True)],axis=1)"
      ],
      "metadata": {
        "id": "jWJAvbqerBq4"
      },
      "execution_count": 44,
      "outputs": []
    },
    {
      "cell_type": "code",
      "source": [
        "df_estimation= df_credit[df_credit.columns.difference(['Instrument', 'CompanyName', 'BusinessSector', 'CompanyMarketCap', 'CreditCombinedPD', 'randNumCol'])]"
      ],
      "metadata": {
        "id": "HX_oPpMeDRPa"
      },
      "execution_count": 49,
      "outputs": []
    },
    {
      "cell_type": "code",
      "source": [
        "df_estimation.columns\n",
        "#df_credit"
      ],
      "metadata": {
        "id": "_IqUbOO2_6Tx",
        "outputId": "5a242362-cde8-44af-86ea-383f47ba71cb",
        "colab": {
          "base_uri": "https://localhost:8080/"
        }
      },
      "execution_count": 52,
      "outputs": [
        {
          "output_type": "execute_result",
          "data": {
            "text/plain": [
              "Index(['Automobiles & Auto Parts', 'Banking & Investment Services',\n",
              "       'Chemicals', 'Consumer Goods Conglomerates',\n",
              "       'Cyclical Consumer Products', 'Cyclical Consumer Services', 'Default',\n",
              "       'Energy - Fossil Fuels',\n",
              "       'Financial Technology (Fintech) & Infrastructure', 'Food & Beverages',\n",
              "       'Food & Drug Retailing', 'Healthcare Services & Equipment',\n",
              "       'Industrial & Commercial Services', 'Industrial Goods', 'Insurance',\n",
              "       'Mineral Resources', 'Personal & Household Products & Services',\n",
              "       'Pharmaceuticals & Medical Research', 'PriceMomentumT12MVolatility',\n",
              "       'Real Estate', 'Renewable Energy', 'Retailers', 'ReturnOnAssets',\n",
              "       'Software & IT Services', 'Technology Equipment',\n",
              "       'Telecommunications Services', 'TotalDebttoCommonEquity',\n",
              "       'Transportation', 'Utilities'],\n",
              "      dtype='object')"
            ]
          },
          "metadata": {},
          "execution_count": 52
        }
      ]
    },
    {
      "cell_type": "code",
      "source": [
        "\n",
        "# Split the data into training and testing sets\n",
        "X_train, X_test, y_train, y_test = train_test_split(df_estimation.drop(['Default'],axis=1), df_estimation['Default'], test_size=0.25)\n",
        "\n",
        "# Create the logistic regression model\n",
        "model = LogisticRegression(penalty='l2', C=0.01)\n",
        "\n",
        "# Fit the model to the training data\n",
        "model.fit(X_train, y_train)\n",
        "\n",
        "# Make predictions on the test data\n",
        "y_pred = model.predict(X_test)"
      ],
      "metadata": {
        "id": "gjH3NApUtqKC"
      },
      "execution_count": 63,
      "outputs": []
    },
    {
      "cell_type": "code",
      "source": [
        "# Evaluate the model\n",
        "accuracy = model.score(X_test, y_test)\n",
        "print('Accuracy:', accuracy)\n",
        "accuracy = model.score(X_train, y_train)\n",
        "print('Accuracy:', accuracy)"
      ],
      "metadata": {
        "id": "MVRpyP7qxSij",
        "outputId": "053067ac-801f-487e-b5bf-6a24655c6eb0",
        "colab": {
          "base_uri": "https://localhost:8080/"
        }
      },
      "execution_count": 64,
      "outputs": [
        {
          "output_type": "stream",
          "name": "stdout",
          "text": [
            "Accuracy: 0.9921465968586387\n",
            "Accuracy: 0.9956331877729258\n"
          ]
        }
      ]
    },
    {
      "cell_type": "code",
      "source": [
        "model.coef_\n",
        "#confusion_matrix(y_test, model.predict(X_test))\n",
        "#confusion_matrix(y_train, model.predict(X_train))"
      ],
      "metadata": {
        "id": "tmsysO3axsJk",
        "outputId": "85eb4063-552f-4eda-ba6c-9827489baa0a",
        "colab": {
          "base_uri": "https://localhost:8080/"
        }
      },
      "execution_count": 65,
      "outputs": [
        {
          "output_type": "execute_result",
          "data": {
            "text/plain": [
              "array([[ 0.00942934, -0.00855378, -0.00089824, -0.00012389, -0.00183938,\n",
              "        -0.00115629, -0.00212892, -0.00028169, -0.00126358, -0.00029112,\n",
              "         0.01576723, -0.00226028, -0.00301397, -0.00122794, -0.00057146,\n",
              "        -0.00067766, -0.00252832,  0.00046395,  0.01616338, -0.00051189,\n",
              "        -0.00177813,  0.00164291, -0.00564125, -0.00311987, -0.00046285,\n",
              "         0.03544886, -0.00120439, -0.00134836]])"
            ]
          },
          "metadata": {},
          "execution_count": 65
        }
      ]
    },
    {
      "cell_type": "code",
      "source": [
        "print(classification_report(y_train, model.predict(X_train)))"
      ],
      "metadata": {
        "id": "Rb2NHMfl4t6U",
        "outputId": "541381dd-99a4-4b68-d330-df32c37d2b4e",
        "colab": {
          "base_uri": "https://localhost:8080/"
        }
      },
      "execution_count": 66,
      "outputs": [
        {
          "output_type": "stream",
          "name": "stdout",
          "text": [
            "              precision    recall  f1-score   support\n",
            "\n",
            "       False       1.00      1.00      1.00      1139\n",
            "        True       1.00      0.17      0.29         6\n",
            "\n",
            "    accuracy                           1.00      1145\n",
            "   macro avg       1.00      0.58      0.64      1145\n",
            "weighted avg       1.00      1.00      0.99      1145\n",
            "\n"
          ]
        }
      ]
    },
    {
      "cell_type": "code",
      "source": [
        "model.get_params()"
      ],
      "metadata": {
        "id": "Tf36S60-8HyK",
        "outputId": "9fd504f0-4eb8-4005-9448-4721e137aded",
        "colab": {
          "base_uri": "https://localhost:8080/"
        }
      },
      "execution_count": 40,
      "outputs": [
        {
          "output_type": "execute_result",
          "data": {
            "text/plain": [
              "{'C': 1.0,\n",
              " 'class_weight': None,\n",
              " 'dual': False,\n",
              " 'fit_intercept': True,\n",
              " 'intercept_scaling': 1,\n",
              " 'l1_ratio': None,\n",
              " 'max_iter': 100,\n",
              " 'multi_class': 'auto',\n",
              " 'n_jobs': None,\n",
              " 'penalty': 'l2',\n",
              " 'random_state': None,\n",
              " 'solver': 'lbfgs',\n",
              " 'tol': 0.0001,\n",
              " 'verbose': 0,\n",
              " 'warm_start': False}"
            ]
          },
          "metadata": {},
          "execution_count": 40
        }
      ]
    }
  ]
}