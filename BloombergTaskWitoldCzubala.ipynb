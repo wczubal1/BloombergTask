{
  "nbformat": 4,
  "nbformat_minor": 0,
  "metadata": {
    "colab": {
      "provenance": [],
      "mount_file_id": "https://github.com/wczubal1/BloombergTask/blob/main/BloombergTaskWitoldCzubala.ipynb",
      "authorship_tag": "ABX9TyMGMMHBewGdarQ2T/DHBhLj",
      "include_colab_link": true
    },
    "kernelspec": {
      "name": "python3",
      "display_name": "Python 3"
    },
    "language_info": {
      "name": "python"
    }
  },
  "cells": [
    {
      "cell_type": "markdown",
      "metadata": {
        "id": "view-in-github",
        "colab_type": "text"
      },
      "source": [
        "<a href=\"https://colab.research.google.com/github/wczubal1/BloombergTask/blob/main/BloombergTaskWitoldCzubala.ipynb\" target=\"_parent\"><img src=\"https://colab.research.google.com/assets/colab-badge.svg\" alt=\"Open In Colab\"/></a>"
      ]
    },
    {
      "cell_type": "code",
      "execution_count": 1,
      "metadata": {
        "id": "lOSCnnSxgNvD"
      },
      "outputs": [],
      "source": [
        "import pandas as pd\n",
        "import numpy as np\n",
        "from scipy.stats import multivariate_normal\n",
        "from statistics import NormalDist"
      ]
    },
    {
      "cell_type": "code",
      "source": [
        "#!pip install scikit-learn"
      ],
      "metadata": {
        "id": "Ku6HDvGWtkyp",
        "outputId": "fa0b0552-2146-48da-d964-65a2a1e35244",
        "colab": {
          "base_uri": "https://localhost:8080/"
        }
      },
      "execution_count": 2,
      "outputs": [
        {
          "output_type": "stream",
          "name": "stdout",
          "text": [
            "Requirement already satisfied: scikit-learn in /usr/local/lib/python3.10/dist-packages (1.2.2)\n",
            "Requirement already satisfied: numpy>=1.17.3 in /usr/local/lib/python3.10/dist-packages (from scikit-learn) (1.23.5)\n",
            "Requirement already satisfied: scipy>=1.3.2 in /usr/local/lib/python3.10/dist-packages (from scikit-learn) (1.11.4)\n",
            "Requirement already satisfied: joblib>=1.1.1 in /usr/local/lib/python3.10/dist-packages (from scikit-learn) (1.3.2)\n",
            "Requirement already satisfied: threadpoolctl>=2.0.0 in /usr/local/lib/python3.10/dist-packages (from scikit-learn) (3.2.0)\n"
          ]
        }
      ]
    },
    {
      "cell_type": "code",
      "source": [
        "import sklearn\n",
        "from sklearn.model_selection import train_test_split\n",
        "from sklearn.linear_model import LogisticRegression\n",
        "from sklearn.metrics import classification_report, confusion_matrix"
      ],
      "metadata": {
        "id": "i-ZcbGH3ufuc"
      },
      "execution_count": 3,
      "outputs": []
    },
    {
      "cell_type": "code",
      "source": [
        "#Uploading corporate PD datset\n",
        "data_root = \"https://raw.githubusercontent.com/wczubal1/BloombergTask/main/\"\n",
        "df_credit = pd.read_csv(data_root + \"df_credit.csv\")"
      ],
      "metadata": {
        "id": "Zgqlq3LhgzDO"
      },
      "execution_count": 4,
      "outputs": []
    },
    {
      "cell_type": "code",
      "source": [
        "df_credit"
      ],
      "metadata": {
        "colab": {
          "base_uri": "https://localhost:8080/",
          "height": 424
        },
        "id": "OOL6kjHsu3e_",
        "outputId": "792aaf48-b638-4248-f02f-e174c5d9f23b"
      },
      "execution_count": 5,
      "outputs": [
        {
          "output_type": "execute_result",
          "data": {
            "text/plain": [
              "     Instrument                               CompanyName  \\\n",
              "0        TXG.OQ                          10X Genomics Inc   \n",
              "1      FCNCA.OQ  First Citizens BancShares Inc (Delaware)   \n",
              "2         ME.OQ                       23andMe Holding Co.   \n",
              "3       TSVT.OQ                          2Seventy Bio Inc   \n",
              "4         DDD.N                           3D Systems Corp   \n",
              "...         ...                                       ...   \n",
              "2324      ZI.OQ                 Zoominfo Technologies Inc   \n",
              "2325      ZS.OQ                               Zscaler Inc   \n",
              "2326    ZUMZ.OQ                                Zumiez Inc   \n",
              "2327      ZUO.N                                 Zuora Inc   \n",
              "2328      ZWS.N           Zurn Elkay Water Solutions Corp   \n",
              "\n",
              "                          BusinessSector  CompanyMarketCap  CreditCombinedPD  \\\n",
              "0        Healthcare Services & Equipment      5.554622e+09          0.083735   \n",
              "1          Banking & Investment Services      2.005774e+10          0.251288   \n",
              "2        Healthcare Services & Equipment      3.392539e+08          0.235883   \n",
              "3     Pharmaceuticals & Medical Research      1.893360e+08          0.414782   \n",
              "4                   Technology Equipment      6.925227e+08          0.459605   \n",
              "...                                  ...               ...               ...   \n",
              "2324              Software & IT Services      6.127379e+09          0.216172   \n",
              "2325              Software & IT Services      3.423091e+10          0.049608   \n",
              "2326                           Retailers      3.589960e+08          0.233710   \n",
              "2327              Software & IT Services      1.209195e+09          0.081718   \n",
              "2328          Cyclical Consumer Products      4.864617e+09          0.060983   \n",
              "\n",
              "      ReturnOnAssets  TotalDebttoCommonEquity  PriceMomentumT12MVolatility  \n",
              "0             -16.21                      NaN                    14.111801  \n",
              "1               1.01                  0.92905                    24.651832  \n",
              "2             -29.76                      NaN                    14.719923  \n",
              "3                NaN                      NaN                    34.163690  \n",
              "4              -1.96                  0.60469                    21.900110  \n",
              "...              ...                      ...                          ...  \n",
              "2324            5.20                  0.54393                    18.089863  \n",
              "2325            8.65                  1.56412                    16.097909  \n",
              "2326            2.61                  0.00000                    13.146578  \n",
              "2327             NaN                  2.16553                    16.002749  \n",
              "2328             NaN                  0.33183                     9.246956  \n",
              "\n",
              "[2329 rows x 8 columns]"
            ],
            "text/html": [
              "\n",
              "  <div id=\"df-6b486a50-9735-49be-b126-0ec76e0c8928\" class=\"colab-df-container\">\n",
              "    <div>\n",
              "<style scoped>\n",
              "    .dataframe tbody tr th:only-of-type {\n",
              "        vertical-align: middle;\n",
              "    }\n",
              "\n",
              "    .dataframe tbody tr th {\n",
              "        vertical-align: top;\n",
              "    }\n",
              "\n",
              "    .dataframe thead th {\n",
              "        text-align: right;\n",
              "    }\n",
              "</style>\n",
              "<table border=\"1\" class=\"dataframe\">\n",
              "  <thead>\n",
              "    <tr style=\"text-align: right;\">\n",
              "      <th></th>\n",
              "      <th>Instrument</th>\n",
              "      <th>CompanyName</th>\n",
              "      <th>BusinessSector</th>\n",
              "      <th>CompanyMarketCap</th>\n",
              "      <th>CreditCombinedPD</th>\n",
              "      <th>ReturnOnAssets</th>\n",
              "      <th>TotalDebttoCommonEquity</th>\n",
              "      <th>PriceMomentumT12MVolatility</th>\n",
              "    </tr>\n",
              "  </thead>\n",
              "  <tbody>\n",
              "    <tr>\n",
              "      <th>0</th>\n",
              "      <td>TXG.OQ</td>\n",
              "      <td>10X Genomics Inc</td>\n",
              "      <td>Healthcare Services &amp; Equipment</td>\n",
              "      <td>5.554622e+09</td>\n",
              "      <td>0.083735</td>\n",
              "      <td>-16.21</td>\n",
              "      <td>NaN</td>\n",
              "      <td>14.111801</td>\n",
              "    </tr>\n",
              "    <tr>\n",
              "      <th>1</th>\n",
              "      <td>FCNCA.OQ</td>\n",
              "      <td>First Citizens BancShares Inc (Delaware)</td>\n",
              "      <td>Banking &amp; Investment Services</td>\n",
              "      <td>2.005774e+10</td>\n",
              "      <td>0.251288</td>\n",
              "      <td>1.01</td>\n",
              "      <td>0.92905</td>\n",
              "      <td>24.651832</td>\n",
              "    </tr>\n",
              "    <tr>\n",
              "      <th>2</th>\n",
              "      <td>ME.OQ</td>\n",
              "      <td>23andMe Holding Co.</td>\n",
              "      <td>Healthcare Services &amp; Equipment</td>\n",
              "      <td>3.392539e+08</td>\n",
              "      <td>0.235883</td>\n",
              "      <td>-29.76</td>\n",
              "      <td>NaN</td>\n",
              "      <td>14.719923</td>\n",
              "    </tr>\n",
              "    <tr>\n",
              "      <th>3</th>\n",
              "      <td>TSVT.OQ</td>\n",
              "      <td>2Seventy Bio Inc</td>\n",
              "      <td>Pharmaceuticals &amp; Medical Research</td>\n",
              "      <td>1.893360e+08</td>\n",
              "      <td>0.414782</td>\n",
              "      <td>NaN</td>\n",
              "      <td>NaN</td>\n",
              "      <td>34.163690</td>\n",
              "    </tr>\n",
              "    <tr>\n",
              "      <th>4</th>\n",
              "      <td>DDD.N</td>\n",
              "      <td>3D Systems Corp</td>\n",
              "      <td>Technology Equipment</td>\n",
              "      <td>6.925227e+08</td>\n",
              "      <td>0.459605</td>\n",
              "      <td>-1.96</td>\n",
              "      <td>0.60469</td>\n",
              "      <td>21.900110</td>\n",
              "    </tr>\n",
              "    <tr>\n",
              "      <th>...</th>\n",
              "      <td>...</td>\n",
              "      <td>...</td>\n",
              "      <td>...</td>\n",
              "      <td>...</td>\n",
              "      <td>...</td>\n",
              "      <td>...</td>\n",
              "      <td>...</td>\n",
              "      <td>...</td>\n",
              "    </tr>\n",
              "    <tr>\n",
              "      <th>2324</th>\n",
              "      <td>ZI.OQ</td>\n",
              "      <td>Zoominfo Technologies Inc</td>\n",
              "      <td>Software &amp; IT Services</td>\n",
              "      <td>6.127379e+09</td>\n",
              "      <td>0.216172</td>\n",
              "      <td>5.20</td>\n",
              "      <td>0.54393</td>\n",
              "      <td>18.089863</td>\n",
              "    </tr>\n",
              "    <tr>\n",
              "      <th>2325</th>\n",
              "      <td>ZS.OQ</td>\n",
              "      <td>Zscaler Inc</td>\n",
              "      <td>Software &amp; IT Services</td>\n",
              "      <td>3.423091e+10</td>\n",
              "      <td>0.049608</td>\n",
              "      <td>8.65</td>\n",
              "      <td>1.56412</td>\n",
              "      <td>16.097909</td>\n",
              "    </tr>\n",
              "    <tr>\n",
              "      <th>2326</th>\n",
              "      <td>ZUMZ.OQ</td>\n",
              "      <td>Zumiez Inc</td>\n",
              "      <td>Retailers</td>\n",
              "      <td>3.589960e+08</td>\n",
              "      <td>0.233710</td>\n",
              "      <td>2.61</td>\n",
              "      <td>0.00000</td>\n",
              "      <td>13.146578</td>\n",
              "    </tr>\n",
              "    <tr>\n",
              "      <th>2327</th>\n",
              "      <td>ZUO.N</td>\n",
              "      <td>Zuora Inc</td>\n",
              "      <td>Software &amp; IT Services</td>\n",
              "      <td>1.209195e+09</td>\n",
              "      <td>0.081718</td>\n",
              "      <td>NaN</td>\n",
              "      <td>2.16553</td>\n",
              "      <td>16.002749</td>\n",
              "    </tr>\n",
              "    <tr>\n",
              "      <th>2328</th>\n",
              "      <td>ZWS.N</td>\n",
              "      <td>Zurn Elkay Water Solutions Corp</td>\n",
              "      <td>Cyclical Consumer Products</td>\n",
              "      <td>4.864617e+09</td>\n",
              "      <td>0.060983</td>\n",
              "      <td>NaN</td>\n",
              "      <td>0.33183</td>\n",
              "      <td>9.246956</td>\n",
              "    </tr>\n",
              "  </tbody>\n",
              "</table>\n",
              "<p>2329 rows × 8 columns</p>\n",
              "</div>\n",
              "    <div class=\"colab-df-buttons\">\n",
              "\n",
              "  <div class=\"colab-df-container\">\n",
              "    <button class=\"colab-df-convert\" onclick=\"convertToInteractive('df-6b486a50-9735-49be-b126-0ec76e0c8928')\"\n",
              "            title=\"Convert this dataframe to an interactive table.\"\n",
              "            style=\"display:none;\">\n",
              "\n",
              "  <svg xmlns=\"http://www.w3.org/2000/svg\" height=\"24px\" viewBox=\"0 -960 960 960\">\n",
              "    <path d=\"M120-120v-720h720v720H120Zm60-500h600v-160H180v160Zm220 220h160v-160H400v160Zm0 220h160v-160H400v160ZM180-400h160v-160H180v160Zm440 0h160v-160H620v160ZM180-180h160v-160H180v160Zm440 0h160v-160H620v160Z\"/>\n",
              "  </svg>\n",
              "    </button>\n",
              "\n",
              "  <style>\n",
              "    .colab-df-container {\n",
              "      display:flex;\n",
              "      gap: 12px;\n",
              "    }\n",
              "\n",
              "    .colab-df-convert {\n",
              "      background-color: #E8F0FE;\n",
              "      border: none;\n",
              "      border-radius: 50%;\n",
              "      cursor: pointer;\n",
              "      display: none;\n",
              "      fill: #1967D2;\n",
              "      height: 32px;\n",
              "      padding: 0 0 0 0;\n",
              "      width: 32px;\n",
              "    }\n",
              "\n",
              "    .colab-df-convert:hover {\n",
              "      background-color: #E2EBFA;\n",
              "      box-shadow: 0px 1px 2px rgba(60, 64, 67, 0.3), 0px 1px 3px 1px rgba(60, 64, 67, 0.15);\n",
              "      fill: #174EA6;\n",
              "    }\n",
              "\n",
              "    .colab-df-buttons div {\n",
              "      margin-bottom: 4px;\n",
              "    }\n",
              "\n",
              "    [theme=dark] .colab-df-convert {\n",
              "      background-color: #3B4455;\n",
              "      fill: #D2E3FC;\n",
              "    }\n",
              "\n",
              "    [theme=dark] .colab-df-convert:hover {\n",
              "      background-color: #434B5C;\n",
              "      box-shadow: 0px 1px 3px 1px rgba(0, 0, 0, 0.15);\n",
              "      filter: drop-shadow(0px 1px 2px rgba(0, 0, 0, 0.3));\n",
              "      fill: #FFFFFF;\n",
              "    }\n",
              "  </style>\n",
              "\n",
              "    <script>\n",
              "      const buttonEl =\n",
              "        document.querySelector('#df-6b486a50-9735-49be-b126-0ec76e0c8928 button.colab-df-convert');\n",
              "      buttonEl.style.display =\n",
              "        google.colab.kernel.accessAllowed ? 'block' : 'none';\n",
              "\n",
              "      async function convertToInteractive(key) {\n",
              "        const element = document.querySelector('#df-6b486a50-9735-49be-b126-0ec76e0c8928');\n",
              "        const dataTable =\n",
              "          await google.colab.kernel.invokeFunction('convertToInteractive',\n",
              "                                                    [key], {});\n",
              "        if (!dataTable) return;\n",
              "\n",
              "        const docLinkHtml = 'Like what you see? Visit the ' +\n",
              "          '<a target=\"_blank\" href=https://colab.research.google.com/notebooks/data_table.ipynb>data table notebook</a>'\n",
              "          + ' to learn more about interactive tables.';\n",
              "        element.innerHTML = '';\n",
              "        dataTable['output_type'] = 'display_data';\n",
              "        await google.colab.output.renderOutput(dataTable, element);\n",
              "        const docLink = document.createElement('div');\n",
              "        docLink.innerHTML = docLinkHtml;\n",
              "        element.appendChild(docLink);\n",
              "      }\n",
              "    </script>\n",
              "  </div>\n",
              "\n",
              "\n",
              "<div id=\"df-6ddea2bd-e118-4446-8005-3c30f5c0bd20\">\n",
              "  <button class=\"colab-df-quickchart\" onclick=\"quickchart('df-6ddea2bd-e118-4446-8005-3c30f5c0bd20')\"\n",
              "            title=\"Suggest charts\"\n",
              "            style=\"display:none;\">\n",
              "\n",
              "<svg xmlns=\"http://www.w3.org/2000/svg\" height=\"24px\"viewBox=\"0 0 24 24\"\n",
              "     width=\"24px\">\n",
              "    <g>\n",
              "        <path d=\"M19 3H5c-1.1 0-2 .9-2 2v14c0 1.1.9 2 2 2h14c1.1 0 2-.9 2-2V5c0-1.1-.9-2-2-2zM9 17H7v-7h2v7zm4 0h-2V7h2v10zm4 0h-2v-4h2v4z\"/>\n",
              "    </g>\n",
              "</svg>\n",
              "  </button>\n",
              "\n",
              "<style>\n",
              "  .colab-df-quickchart {\n",
              "      --bg-color: #E8F0FE;\n",
              "      --fill-color: #1967D2;\n",
              "      --hover-bg-color: #E2EBFA;\n",
              "      --hover-fill-color: #174EA6;\n",
              "      --disabled-fill-color: #AAA;\n",
              "      --disabled-bg-color: #DDD;\n",
              "  }\n",
              "\n",
              "  [theme=dark] .colab-df-quickchart {\n",
              "      --bg-color: #3B4455;\n",
              "      --fill-color: #D2E3FC;\n",
              "      --hover-bg-color: #434B5C;\n",
              "      --hover-fill-color: #FFFFFF;\n",
              "      --disabled-bg-color: #3B4455;\n",
              "      --disabled-fill-color: #666;\n",
              "  }\n",
              "\n",
              "  .colab-df-quickchart {\n",
              "    background-color: var(--bg-color);\n",
              "    border: none;\n",
              "    border-radius: 50%;\n",
              "    cursor: pointer;\n",
              "    display: none;\n",
              "    fill: var(--fill-color);\n",
              "    height: 32px;\n",
              "    padding: 0;\n",
              "    width: 32px;\n",
              "  }\n",
              "\n",
              "  .colab-df-quickchart:hover {\n",
              "    background-color: var(--hover-bg-color);\n",
              "    box-shadow: 0 1px 2px rgba(60, 64, 67, 0.3), 0 1px 3px 1px rgba(60, 64, 67, 0.15);\n",
              "    fill: var(--button-hover-fill-color);\n",
              "  }\n",
              "\n",
              "  .colab-df-quickchart-complete:disabled,\n",
              "  .colab-df-quickchart-complete:disabled:hover {\n",
              "    background-color: var(--disabled-bg-color);\n",
              "    fill: var(--disabled-fill-color);\n",
              "    box-shadow: none;\n",
              "  }\n",
              "\n",
              "  .colab-df-spinner {\n",
              "    border: 2px solid var(--fill-color);\n",
              "    border-color: transparent;\n",
              "    border-bottom-color: var(--fill-color);\n",
              "    animation:\n",
              "      spin 1s steps(1) infinite;\n",
              "  }\n",
              "\n",
              "  @keyframes spin {\n",
              "    0% {\n",
              "      border-color: transparent;\n",
              "      border-bottom-color: var(--fill-color);\n",
              "      border-left-color: var(--fill-color);\n",
              "    }\n",
              "    20% {\n",
              "      border-color: transparent;\n",
              "      border-left-color: var(--fill-color);\n",
              "      border-top-color: var(--fill-color);\n",
              "    }\n",
              "    30% {\n",
              "      border-color: transparent;\n",
              "      border-left-color: var(--fill-color);\n",
              "      border-top-color: var(--fill-color);\n",
              "      border-right-color: var(--fill-color);\n",
              "    }\n",
              "    40% {\n",
              "      border-color: transparent;\n",
              "      border-right-color: var(--fill-color);\n",
              "      border-top-color: var(--fill-color);\n",
              "    }\n",
              "    60% {\n",
              "      border-color: transparent;\n",
              "      border-right-color: var(--fill-color);\n",
              "    }\n",
              "    80% {\n",
              "      border-color: transparent;\n",
              "      border-right-color: var(--fill-color);\n",
              "      border-bottom-color: var(--fill-color);\n",
              "    }\n",
              "    90% {\n",
              "      border-color: transparent;\n",
              "      border-bottom-color: var(--fill-color);\n",
              "    }\n",
              "  }\n",
              "</style>\n",
              "\n",
              "  <script>\n",
              "    async function quickchart(key) {\n",
              "      const quickchartButtonEl =\n",
              "        document.querySelector('#' + key + ' button');\n",
              "      quickchartButtonEl.disabled = true;  // To prevent multiple clicks.\n",
              "      quickchartButtonEl.classList.add('colab-df-spinner');\n",
              "      try {\n",
              "        const charts = await google.colab.kernel.invokeFunction(\n",
              "            'suggestCharts', [key], {});\n",
              "      } catch (error) {\n",
              "        console.error('Error during call to suggestCharts:', error);\n",
              "      }\n",
              "      quickchartButtonEl.classList.remove('colab-df-spinner');\n",
              "      quickchartButtonEl.classList.add('colab-df-quickchart-complete');\n",
              "    }\n",
              "    (() => {\n",
              "      let quickchartButtonEl =\n",
              "        document.querySelector('#df-6ddea2bd-e118-4446-8005-3c30f5c0bd20 button');\n",
              "      quickchartButtonEl.style.display =\n",
              "        google.colab.kernel.accessAllowed ? 'block' : 'none';\n",
              "    })();\n",
              "  </script>\n",
              "</div>\n",
              "\n",
              "  <div id=\"id_5fdc32f8-c393-46b2-909b-30956811975b\">\n",
              "    <style>\n",
              "      .colab-df-generate {\n",
              "        background-color: #E8F0FE;\n",
              "        border: none;\n",
              "        border-radius: 50%;\n",
              "        cursor: pointer;\n",
              "        display: none;\n",
              "        fill: #1967D2;\n",
              "        height: 32px;\n",
              "        padding: 0 0 0 0;\n",
              "        width: 32px;\n",
              "      }\n",
              "\n",
              "      .colab-df-generate:hover {\n",
              "        background-color: #E2EBFA;\n",
              "        box-shadow: 0px 1px 2px rgba(60, 64, 67, 0.3), 0px 1px 3px 1px rgba(60, 64, 67, 0.15);\n",
              "        fill: #174EA6;\n",
              "      }\n",
              "\n",
              "      [theme=dark] .colab-df-generate {\n",
              "        background-color: #3B4455;\n",
              "        fill: #D2E3FC;\n",
              "      }\n",
              "\n",
              "      [theme=dark] .colab-df-generate:hover {\n",
              "        background-color: #434B5C;\n",
              "        box-shadow: 0px 1px 3px 1px rgba(0, 0, 0, 0.15);\n",
              "        filter: drop-shadow(0px 1px 2px rgba(0, 0, 0, 0.3));\n",
              "        fill: #FFFFFF;\n",
              "      }\n",
              "    </style>\n",
              "    <button class=\"colab-df-generate\" onclick=\"generateWithVariable('df_credit')\"\n",
              "            title=\"Generate code using this dataframe.\"\n",
              "            style=\"display:none;\">\n",
              "\n",
              "  <svg xmlns=\"http://www.w3.org/2000/svg\" height=\"24px\"viewBox=\"0 0 24 24\"\n",
              "       width=\"24px\">\n",
              "    <path d=\"M7,19H8.4L18.45,9,17,7.55,7,17.6ZM5,21V16.75L18.45,3.32a2,2,0,0,1,2.83,0l1.4,1.43a1.91,1.91,0,0,1,.58,1.4,1.91,1.91,0,0,1-.58,1.4L9.25,21ZM18.45,9,17,7.55Zm-12,3A5.31,5.31,0,0,0,4.9,8.1,5.31,5.31,0,0,0,1,6.5,5.31,5.31,0,0,0,4.9,4.9,5.31,5.31,0,0,0,6.5,1,5.31,5.31,0,0,0,8.1,4.9,5.31,5.31,0,0,0,12,6.5,5.46,5.46,0,0,0,6.5,12Z\"/>\n",
              "  </svg>\n",
              "    </button>\n",
              "    <script>\n",
              "      (() => {\n",
              "      const buttonEl =\n",
              "        document.querySelector('#id_5fdc32f8-c393-46b2-909b-30956811975b button.colab-df-generate');\n",
              "      buttonEl.style.display =\n",
              "        google.colab.kernel.accessAllowed ? 'block' : 'none';\n",
              "\n",
              "      buttonEl.onclick = () => {\n",
              "        google.colab.notebook.generateWithVariable('df_credit');\n",
              "      }\n",
              "      })();\n",
              "    </script>\n",
              "  </div>\n",
              "\n",
              "    </div>\n",
              "  </div>\n"
            ]
          },
          "metadata": {},
          "execution_count": 5
        }
      ]
    },
    {
      "cell_type": "code",
      "source": [
        "#Count of rows with missing values\n",
        "print (df_credit.isna().any(axis=1).sum())"
      ],
      "metadata": {
        "id": "fQT4PDj39_En",
        "outputId": "1c20a546-98f5-41c9-bb2b-12db405ed938",
        "colab": {
          "base_uri": "https://localhost:8080/"
        }
      },
      "execution_count": 6,
      "outputs": [
        {
          "output_type": "stream",
          "name": "stdout",
          "text": [
            "802\n"
          ]
        }
      ]
    },
    {
      "cell_type": "code",
      "source": [
        "#Removing missing values\n",
        "df_credit=df_credit.dropna()"
      ],
      "metadata": {
        "id": "56TUifzG-YDt"
      },
      "execution_count": 7,
      "outputs": []
    },
    {
      "cell_type": "code",
      "source": [
        "df_credit.loc[:,'randNumCol'] = np.random.uniform(0, 1, df_credit.shape[0])"
      ],
      "metadata": {
        "id": "NyNKoF7l_JPX",
        "outputId": "90e5489e-88ad-4077-9553-c36726846902",
        "colab": {
          "base_uri": "https://localhost:8080/"
        }
      },
      "execution_count": 36,
      "outputs": [
        {
          "output_type": "stream",
          "name": "stderr",
          "text": [
            "<ipython-input-36-d4b71def6516>:1: SettingWithCopyWarning: \n",
            "A value is trying to be set on a copy of a slice from a DataFrame.\n",
            "Try using .loc[row_indexer,col_indexer] = value instead\n",
            "\n",
            "See the caveats in the documentation: https://pandas.pydata.org/pandas-docs/stable/user_guide/indexing.html#returning-a-view-versus-a-copy\n",
            "  df_credit.loc[:,'randNumCol'] = np.random.uniform(0, 1, df_credit.shape[0])\n"
          ]
        }
      ]
    },
    {
      "cell_type": "code",
      "source": [
        "df_credit['CreditCombinedPD'].describe()\n",
        "#df_credit['randNumCol'].describe()"
      ],
      "metadata": {
        "id": "ThLrfcNV_7N6",
        "outputId": "cfebef74-b686-4954-e25f-b29b2e2fa19b",
        "colab": {
          "base_uri": "https://localhost:8080/"
        }
      },
      "execution_count": 25,
      "outputs": [
        {
          "output_type": "execute_result",
          "data": {
            "text/plain": [
              "count    1527.000000\n",
              "mean        0.283032\n",
              "std         0.493445\n",
              "min         0.006694\n",
              "25%         0.074972\n",
              "50%         0.140495\n",
              "75%         0.269909\n",
              "max         5.972882\n",
              "Name: CreditCombinedPD, dtype: float64"
            ]
          },
          "metadata": {},
          "execution_count": 25
        }
      ]
    },
    {
      "cell_type": "code",
      "source": [
        "#simulating default\n",
        "#scaling parameter\n",
        "k=3\n",
        "df_credit.loc[:,'Default'] = df_credit['randNumCol']<(k*df_credit['CreditCombinedPD']/100)"
      ],
      "metadata": {
        "id": "GFdPS32ymx8C",
        "outputId": "82d6ea31-8ddf-4ec2-c933-687493162f96",
        "colab": {
          "base_uri": "https://localhost:8080/"
        }
      },
      "execution_count": 39,
      "outputs": [
        {
          "output_type": "stream",
          "name": "stderr",
          "text": [
            "<ipython-input-39-ee7159d617f5>:4: SettingWithCopyWarning: \n",
            "A value is trying to be set on a copy of a slice from a DataFrame.\n",
            "Try using .loc[row_indexer,col_indexer] = value instead\n",
            "\n",
            "See the caveats in the documentation: https://pandas.pydata.org/pandas-docs/stable/user_guide/indexing.html#returning-a-view-versus-a-copy\n",
            "  df_credit.loc[:,'Default'] = df_credit['randNumCol']<(k*df_credit['CreditCombinedPD']/100)\n"
          ]
        }
      ]
    },
    {
      "cell_type": "code",
      "source": [
        "sum(df_credit['Default'])\n",
        "#df_credit.loc[df_credit['Default']==True]\n",
        "#df_credit.loc[df_credit['Default']==True,'BusinessSector'].describe()"
      ],
      "metadata": {
        "id": "RXwht3IxnF4-",
        "outputId": "0195f5af-2447-4cbc-f8b2-1392015a2a96",
        "colab": {
          "base_uri": "https://localhost:8080/"
        }
      },
      "execution_count": 40,
      "outputs": [
        {
          "output_type": "execute_result",
          "data": {
            "text/plain": [
              "16"
            ]
          },
          "metadata": {},
          "execution_count": 40
        }
      ]
    },
    {
      "cell_type": "code",
      "source": [
        "#Sector variables\n",
        "df_credit.groupby('BusinessSector').size()\n",
        "#Creating dummies for sector\n",
        "df_credit=pd.concat([df_credit, pd.get_dummies(df_credit['BusinessSector'],drop_first=True)],axis=1)"
      ],
      "metadata": {
        "id": "jWJAvbqerBq4"
      },
      "execution_count": 41,
      "outputs": []
    },
    {
      "cell_type": "code",
      "source": [
        "#Estimation dataset (dropping several columns)\n",
        "df_estimation= df_credit[df_credit.columns.difference(['Instrument', 'CompanyName', 'BusinessSector', 'CompanyMarketCap', 'CreditCombinedPD', 'randNumCol'])]"
      ],
      "metadata": {
        "id": "HX_oPpMeDRPa"
      },
      "execution_count": 42,
      "outputs": []
    },
    {
      "cell_type": "code",
      "source": [
        "df_estimation.columns"
      ],
      "metadata": {
        "id": "_IqUbOO2_6Tx",
        "outputId": "7354cfd5-db14-4df4-b604-d2378b27b723",
        "colab": {
          "base_uri": "https://localhost:8080/"
        }
      },
      "execution_count": 43,
      "outputs": [
        {
          "output_type": "execute_result",
          "data": {
            "text/plain": [
              "Index(['Automobiles & Auto Parts', 'Banking & Investment Services',\n",
              "       'Chemicals', 'Consumer Goods Conglomerates',\n",
              "       'Cyclical Consumer Products', 'Cyclical Consumer Services', 'Default',\n",
              "       'Energy - Fossil Fuels',\n",
              "       'Financial Technology (Fintech) & Infrastructure', 'Food & Beverages',\n",
              "       'Food & Drug Retailing', 'Healthcare Services & Equipment',\n",
              "       'Industrial & Commercial Services', 'Industrial Goods', 'Insurance',\n",
              "       'Mineral Resources', 'Personal & Household Products & Services',\n",
              "       'Pharmaceuticals & Medical Research', 'PriceMomentumT12MVolatility',\n",
              "       'Real Estate', 'Renewable Energy', 'Retailers', 'ReturnOnAssets',\n",
              "       'Software & IT Services', 'Technology Equipment',\n",
              "       'Telecommunications Services', 'TotalDebttoCommonEquity',\n",
              "       'Transportation', 'Utilities'],\n",
              "      dtype='object')"
            ]
          },
          "metadata": {},
          "execution_count": 43
        }
      ]
    },
    {
      "cell_type": "code",
      "source": [
        "\n",
        "# Split the data into training and testing sets\n",
        "X_train, X_test, y_train, y_test = train_test_split(df_estimation.drop(['Default'],axis=1), df_estimation['Default'], test_size=0.25)\n",
        "\n",
        "# Create the logistic regression model\n",
        "#Adding regularization penalty and inverse of regularization strength\n",
        "model = LogisticRegression(penalty='l2', C=0.01)\n",
        "\n",
        "# Fit the model to the training data\n",
        "model.fit(X_train, y_train)\n",
        "\n",
        "# Make predictions on the test data\n",
        "y_pred = model.predict(X_test)"
      ],
      "metadata": {
        "id": "gjH3NApUtqKC"
      },
      "execution_count": 44,
      "outputs": []
    },
    {
      "cell_type": "code",
      "source": [
        "# Evaluate the model\n",
        "accuracy = model.score(X_test, y_test)\n",
        "print('Accuracy:', accuracy)\n",
        "accuracy = model.score(X_train, y_train)\n",
        "print('Accuracy:', accuracy)"
      ],
      "metadata": {
        "id": "MVRpyP7qxSij",
        "outputId": "cf9cdf07-ed5b-4416-dcd7-f087f160d6dd",
        "colab": {
          "base_uri": "https://localhost:8080/"
        }
      },
      "execution_count": 45,
      "outputs": [
        {
          "output_type": "stream",
          "name": "stdout",
          "text": [
            "Accuracy: 0.9895287958115183\n",
            "Accuracy: 0.988646288209607\n"
          ]
        }
      ]
    },
    {
      "cell_type": "code",
      "source": [
        "model.coef_\n",
        "#confusion_matrix(y_test, model.predict(X_test))\n",
        "#confusion_matrix(y_train, model.predict(X_train))"
      ],
      "metadata": {
        "id": "tmsysO3axsJk",
        "outputId": "ff125f99-d7f2-404f-f531-6cd6a4dba731",
        "colab": {
          "base_uri": "https://localhost:8080/"
        }
      },
      "execution_count": 46,
      "outputs": [
        {
          "output_type": "execute_result",
          "data": {
            "text/plain": [
              "array([[ 0.00697647, -0.00785292, -0.00219656, -0.00031789, -0.00391166,\n",
              "         0.01273398, -0.00466423, -0.00149994,  0.00745489, -0.00095806,\n",
              "         0.00952008, -0.00468393,  0.00298763, -0.00295489, -0.00122822,\n",
              "        -0.00130586,  0.00394979,  0.05462328,  0.00218811, -0.00166794,\n",
              "         0.00598002, -0.01265748, -0.01324417, -0.00699287, -0.00164144,\n",
              "         0.02294498, -0.00282164,  0.00733938]])"
            ]
          },
          "metadata": {},
          "execution_count": 46
        }
      ]
    },
    {
      "cell_type": "code",
      "source": [
        "print(classification_report(y_train, model.predict(X_train)))"
      ],
      "metadata": {
        "id": "Rb2NHMfl4t6U",
        "outputId": "541381dd-99a4-4b68-d330-df32c37d2b4e",
        "colab": {
          "base_uri": "https://localhost:8080/"
        }
      },
      "execution_count": null,
      "outputs": [
        {
          "output_type": "stream",
          "name": "stdout",
          "text": [
            "              precision    recall  f1-score   support\n",
            "\n",
            "       False       1.00      1.00      1.00      1139\n",
            "        True       1.00      0.17      0.29         6\n",
            "\n",
            "    accuracy                           1.00      1145\n",
            "   macro avg       1.00      0.58      0.64      1145\n",
            "weighted avg       1.00      1.00      0.99      1145\n",
            "\n"
          ]
        }
      ]
    },
    {
      "cell_type": "code",
      "source": [
        "model.get_params()"
      ],
      "metadata": {
        "id": "Tf36S60-8HyK",
        "outputId": "9fd504f0-4eb8-4005-9448-4721e137aded",
        "colab": {
          "base_uri": "https://localhost:8080/"
        }
      },
      "execution_count": null,
      "outputs": [
        {
          "output_type": "execute_result",
          "data": {
            "text/plain": [
              "{'C': 1.0,\n",
              " 'class_weight': None,\n",
              " 'dual': False,\n",
              " 'fit_intercept': True,\n",
              " 'intercept_scaling': 1,\n",
              " 'l1_ratio': None,\n",
              " 'max_iter': 100,\n",
              " 'multi_class': 'auto',\n",
              " 'n_jobs': None,\n",
              " 'penalty': 'l2',\n",
              " 'random_state': None,\n",
              " 'solver': 'lbfgs',\n",
              " 'tol': 0.0001,\n",
              " 'verbose': 0,\n",
              " 'warm_start': False}"
            ]
          },
          "metadata": {},
          "execution_count": 40
        }
      ]
    }
  ]
}